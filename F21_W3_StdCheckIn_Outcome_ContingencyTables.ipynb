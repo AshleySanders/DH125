{
 "cells": [
  {
   "cell_type": "markdown",
   "metadata": {},
   "source": [
    "# Fall 2021 Week 3 DH Student Check-in Survey\n",
    "\n",
    "## Outcome Tables"
   ]
  },
  {
   "cell_type": "code",
   "execution_count": 1,
   "metadata": {},
   "outputs": [],
   "source": [
    "#Import data\n",
    "F21.StudentCheck.In <- read.csv(\"~/Dropbox/00-UCLA/Courses/DH125-Stats/Data/F21-StudentCheck-In.csv\", comment.char=\"#\")\n",
    "\n",
    "#To import data into R Studio, download it at: https://www.dropbox.com/s/cfsem4hg1zxsr0g/F21-StudentCheck-In.csv?dl=0\n",
    "#Then import the csv file through 1 of the 3 methods we discussed in class."
   ]
  },
  {
   "cell_type": "code",
   "execution_count": 19,
   "metadata": {},
   "outputs": [
    {
     "data": {
      "text/html": [
       "<table class=\"dataframe\">\n",
       "<caption>A data.frame: 6 × 13</caption>\n",
       "<thead>\n",
       "\t<tr><th></th><th scope=col>Class</th><th scope=col>Timestamp</th><th scope=col>Transfer_status</th><th scope=col>Year</th><th scope=col>Return_Sentiment</th><th scope=col>Current_Emotion</th><th scope=col>Stress_Level.1.Low.</th><th scope=col>Optimism_Level.1.Low.</th><th scope=col>Primary_Stressor_Simple</th><th scope=col>Primary_Stressor</th><th scope=col>Coping_Strategies</th><th scope=col>Instructor_Suggestions</th><th scope=col>NA.</th></tr>\n",
       "\t<tr><th></th><th scope=col>&lt;chr&gt;</th><th scope=col>&lt;chr&gt;</th><th scope=col>&lt;chr&gt;</th><th scope=col>&lt;chr&gt;</th><th scope=col>&lt;chr&gt;</th><th scope=col>&lt;chr&gt;</th><th scope=col>&lt;int&gt;</th><th scope=col>&lt;int&gt;</th><th scope=col>&lt;chr&gt;</th><th scope=col>&lt;chr&gt;</th><th scope=col>&lt;chr&gt;</th><th scope=col>&lt;chr&gt;</th><th scope=col>&lt;chr&gt;</th></tr>\n",
       "</thead>\n",
       "<tbody>\n",
       "\t<tr><th scope=row>1</th><td>DH_101</td><td>10/12/21 9:04</td><td>Non-transfer</td><td>Sophomore</td><td>Hopeful, Optimistic, Nervous</td><td>Hopeful     </td><td>3</td><td>3</td><td>New living situation</td><td>Adjusting to new living situation        </td><td>walking                                      </td><td>i think this. class is good!                                                 </td><td>NA</td></tr>\n",
       "\t<tr><th scope=row>2</th><td>DH_101</td><td>10/12/21 9:02</td><td>Non-transfer</td><td>Senior   </td><td>Excited, Hopeful, Optimistic</td><td>Excited     </td><td>4</td><td>3</td><td>Applications        </td><td>Applying for grad school/internships/jobs</td><td>Keeping to a consistent routine              </td><td>Check in with my group often so that we know whether we are on the right path</td><td>NA</td></tr>\n",
       "\t<tr><th scope=row>3</th><td>DH_101</td><td>10/12/21 9:03</td><td>Non-transfer</td><td>Senior   </td><td>Nervous                     </td><td>Stressed out</td><td>5</td><td>2</td><td>Coursework          </td><td>Keeping up with coursework               </td><td>NA                                           </td><td>NA                                                                           </td><td>NA</td></tr>\n",
       "\t<tr><th scope=row>4</th><td>DH_101</td><td>10/12/21 9:04</td><td>Non-transfer</td><td>Senior   </td><td>Excited, Optimistic, Nervous</td><td>Stressed out</td><td>4</td><td>3</td><td>Applications        </td><td>Applying for grad school/internships/jobs</td><td>NA                                           </td><td>NA                                                                           </td><td>NA</td></tr>\n",
       "\t<tr><th scope=row>5</th><td>DH_101</td><td>10/12/21 9:04</td><td>Non-transfer</td><td>Senior   </td><td>Excited, Uncertain, Nervous </td><td>Stressed out</td><td>4</td><td>3</td><td>New living situation</td><td>Adjusting to new living situation        </td><td>Taking time for myself and building a routine</td><td>NA                                                                           </td><td>NA</td></tr>\n",
       "\t<tr><th scope=row>6</th><td>DH_101</td><td>10/12/21 9:04</td><td>Non-transfer</td><td>Senior   </td><td>Excited                     </td><td>Stressed out</td><td>4</td><td>5</td><td>Applications        </td><td>Applying for grad school/internships/jobs</td><td>Working out                                  </td><td>I think the instructors are doing well                                       </td><td>NA</td></tr>\n",
       "</tbody>\n",
       "</table>\n"
      ],
      "text/latex": [
       "A data.frame: 6 × 13\n",
       "\\begin{tabular}{r|lllllllllllll}\n",
       "  & Class & Timestamp & Transfer\\_status & Year & Return\\_Sentiment & Current\\_Emotion & Stress\\_Level.1.Low. & Optimism\\_Level.1.Low. & Primary\\_Stressor\\_Simple & Primary\\_Stressor & Coping\\_Strategies & Instructor\\_Suggestions & NA.\\\\\n",
       "  & <chr> & <chr> & <chr> & <chr> & <chr> & <chr> & <int> & <int> & <chr> & <chr> & <chr> & <chr> & <chr>\\\\\n",
       "\\hline\n",
       "\t1 & DH\\_101 & 10/12/21 9:04 & Non-transfer & Sophomore & Hopeful, Optimistic, Nervous & Hopeful      & 3 & 3 & New living situation & Adjusting to new living situation         & walking                                       & i think this. class is good!                                                  & NA\\\\\n",
       "\t2 & DH\\_101 & 10/12/21 9:02 & Non-transfer & Senior    & Excited, Hopeful, Optimistic & Excited      & 4 & 3 & Applications         & Applying for grad school/internships/jobs & Keeping to a consistent routine               & Check in with my group often so that we know whether we are on the right path & NA\\\\\n",
       "\t3 & DH\\_101 & 10/12/21 9:03 & Non-transfer & Senior    & Nervous                      & Stressed out & 5 & 2 & Coursework           & Keeping up with coursework                & NA                                            & NA                                                                            & NA\\\\\n",
       "\t4 & DH\\_101 & 10/12/21 9:04 & Non-transfer & Senior    & Excited, Optimistic, Nervous & Stressed out & 4 & 3 & Applications         & Applying for grad school/internships/jobs & NA                                            & NA                                                                            & NA\\\\\n",
       "\t5 & DH\\_101 & 10/12/21 9:04 & Non-transfer & Senior    & Excited, Uncertain, Nervous  & Stressed out & 4 & 3 & New living situation & Adjusting to new living situation         & Taking time for myself and building a routine & NA                                                                            & NA\\\\\n",
       "\t6 & DH\\_101 & 10/12/21 9:04 & Non-transfer & Senior    & Excited                      & Stressed out & 4 & 5 & Applications         & Applying for grad school/internships/jobs & Working out                                   & I think the instructors are doing well                                        & NA\\\\\n",
       "\\end{tabular}\n"
      ],
      "text/markdown": [
       "\n",
       "A data.frame: 6 × 13\n",
       "\n",
       "| <!--/--> | Class &lt;chr&gt; | Timestamp &lt;chr&gt; | Transfer_status &lt;chr&gt; | Year &lt;chr&gt; | Return_Sentiment &lt;chr&gt; | Current_Emotion &lt;chr&gt; | Stress_Level.1.Low. &lt;int&gt; | Optimism_Level.1.Low. &lt;int&gt; | Primary_Stressor_Simple &lt;chr&gt; | Primary_Stressor &lt;chr&gt; | Coping_Strategies &lt;chr&gt; | Instructor_Suggestions &lt;chr&gt; | NA. &lt;chr&gt; |\n",
       "|---|---|---|---|---|---|---|---|---|---|---|---|---|---|\n",
       "| 1 | DH_101 | 10/12/21 9:04 | Non-transfer | Sophomore | Hopeful, Optimistic, Nervous | Hopeful      | 3 | 3 | New living situation | Adjusting to new living situation         | walking                                       | i think this. class is good!                                                  | NA |\n",
       "| 2 | DH_101 | 10/12/21 9:02 | Non-transfer | Senior    | Excited, Hopeful, Optimistic | Excited      | 4 | 3 | Applications         | Applying for grad school/internships/jobs | Keeping to a consistent routine               | Check in with my group often so that we know whether we are on the right path | NA |\n",
       "| 3 | DH_101 | 10/12/21 9:03 | Non-transfer | Senior    | Nervous                      | Stressed out | 5 | 2 | Coursework           | Keeping up with coursework                | NA                                            | NA                                                                            | NA |\n",
       "| 4 | DH_101 | 10/12/21 9:04 | Non-transfer | Senior    | Excited, Optimistic, Nervous | Stressed out | 4 | 3 | Applications         | Applying for grad school/internships/jobs | NA                                            | NA                                                                            | NA |\n",
       "| 5 | DH_101 | 10/12/21 9:04 | Non-transfer | Senior    | Excited, Uncertain, Nervous  | Stressed out | 4 | 3 | New living situation | Adjusting to new living situation         | Taking time for myself and building a routine | NA                                                                            | NA |\n",
       "| 6 | DH_101 | 10/12/21 9:04 | Non-transfer | Senior    | Excited                      | Stressed out | 4 | 5 | Applications         | Applying for grad school/internships/jobs | Working out                                   | I think the instructors are doing well                                        | NA |\n",
       "\n"
      ],
      "text/plain": [
       "  Class  Timestamp     Transfer_status Year      Return_Sentiment            \n",
       "1 DH_101 10/12/21 9:04 Non-transfer    Sophomore Hopeful, Optimistic, Nervous\n",
       "2 DH_101 10/12/21 9:02 Non-transfer    Senior    Excited, Hopeful, Optimistic\n",
       "3 DH_101 10/12/21 9:03 Non-transfer    Senior    Nervous                     \n",
       "4 DH_101 10/12/21 9:04 Non-transfer    Senior    Excited, Optimistic, Nervous\n",
       "5 DH_101 10/12/21 9:04 Non-transfer    Senior    Excited, Uncertain, Nervous \n",
       "6 DH_101 10/12/21 9:04 Non-transfer    Senior    Excited                     \n",
       "  Current_Emotion Stress_Level.1.Low. Optimism_Level.1.Low.\n",
       "1 Hopeful         3                   3                    \n",
       "2 Excited         4                   3                    \n",
       "3 Stressed out    5                   2                    \n",
       "4 Stressed out    4                   3                    \n",
       "5 Stressed out    4                   3                    \n",
       "6 Stressed out    4                   5                    \n",
       "  Primary_Stressor_Simple Primary_Stressor                         \n",
       "1 New living situation    Adjusting to new living situation        \n",
       "2 Applications            Applying for grad school/internships/jobs\n",
       "3 Coursework              Keeping up with coursework               \n",
       "4 Applications            Applying for grad school/internships/jobs\n",
       "5 New living situation    Adjusting to new living situation        \n",
       "6 Applications            Applying for grad school/internships/jobs\n",
       "  Coping_Strategies                            \n",
       "1 walking                                      \n",
       "2 Keeping to a consistent routine              \n",
       "3 NA                                           \n",
       "4 NA                                           \n",
       "5 Taking time for myself and building a routine\n",
       "6 Working out                                  \n",
       "  Instructor_Suggestions                                                       \n",
       "1 i think this. class is good!                                                 \n",
       "2 Check in with my group often so that we know whether we are on the right path\n",
       "3 NA                                                                           \n",
       "4 NA                                                                           \n",
       "5 NA                                                                           \n",
       "6 I think the instructors are doing well                                       \n",
       "  NA.\n",
       "1 NA \n",
       "2 NA \n",
       "3 NA \n",
       "4 NA \n",
       "5 NA \n",
       "6 NA "
      ]
     },
     "metadata": {},
     "output_type": "display_data"
    }
   ],
   "source": [
    "#View the first five rows of the data set\n",
    "head(F21.StudentCheck.In)"
   ]
  },
  {
   "cell_type": "markdown",
   "metadata": {},
   "source": [
    "### If a student is chosen at random what is their likely emotional state?\n",
    "Use an outcome tables to examine individual probabilities for each emotion."
   ]
  },
  {
   "cell_type": "code",
   "execution_count": 3,
   "metadata": {},
   "outputs": [
    {
     "data": {
      "text/plain": [
       "\n",
       "      Anxious       Excited Happy/content       Hopeful    Optimistic \n",
       "           13             6            12             9             6 \n",
       "        Other     Sad/upset  Stressed out     Uncertain \n",
       "            3             2            26             7 "
      ]
     },
     "metadata": {},
     "output_type": "display_data"
    }
   ],
   "source": [
    "#Create an outcome table of current emotions when students took the check-in survey\n",
    "table(F21.StudentCheck.In$Current_Emotion)"
   ]
  },
  {
   "cell_type": "code",
   "execution_count": 4,
   "metadata": {},
   "outputs": [
    {
     "data": {
      "image/png": "[encoded data removed]",
      "text/plain": [
       "plot without title"
      ]
     },
     "metadata": {
      "image/png": {
       "height": 420,
       "width": 420
      }
     },
     "output_type": "display_data"
    }
   ],
   "source": [
    "#Create a simple bar plot of current emotions\n",
    "barplot(table(F21.StudentCheck.In$Current_Emotion))"
   ]
  },
  {
   "cell_type": "code",
   "execution_count": 5,
   "metadata": {},
   "outputs": [
    {
     "name": "stdout",
     "output_type": "stream",
     "text": [
      "\n",
      "The downloaded binary packages are in\n",
      "\t/var/folders/gz/z91916097px8w_wrjg2j6ll00000gr/T//Rtmpjzy6pS/downloaded_packages\n"
     ]
    }
   ],
   "source": [
    "#Add ggplot2 to your library\n",
    "library(ggplot2)"
   ]
  },
  {
   "cell_type": "markdown",
   "metadata": {},
   "source": [
    "### Task\n",
    "Create a ggplot barplot with flipped coordinates to view the full descriptions of sentiments\n",
    "\n",
    "### Description\n",
    "<ul>\n",
    "    <li>Create a barplot without a y-value by tell R to consider Current_Emotion as a factor.</li>\n",
    "    <li>Use stat=\"count\" to count the number of instances of each emotional category</li>\n",
    "    <li>width=.8 sets the width of the bar</li>\n",
    "    <li>Set theme with theme_minimal or theme_classic. For more, see https://ggplot2.tidyverse.org/reference/ggtheme.html</li>\n",
    "    <li>Use +coord_flip() to switch the axes so we can read the full descriptions of sentiments</li>\n",
    "    <li>Then add labels, including a title and x- and y-axis labels.</li>\n",
    "</ul>"
   ]
  },
  {
   "cell_type": "code",
   "execution_count": 6,
   "metadata": {},
   "outputs": [
    {
     "data": {
      "image/png": "[encoded data removed]",
      "text/plain": [
       "plot without title"
      ]
     },
     "metadata": {
      "image/png": {
       "height": 420,
       "width": 420
      }
     },
     "output_type": "display_data"
    }
   ],
   "source": [
    "emotions <- ggplot(F21.StudentCheck.In, aes(x=factor(Current_Emotion)))+\n",
    "  geom_bar(stat=\"count\", width=.8, fill=\"steelblue\")+\n",
    "  theme_minimal()+coord_flip()\n",
    "emotions + labs(title=\"Emotions Reported by DH Students in October 2021\", \n",
    "                    x=\"Count\", y = \"Emotions\")"
   ]
  },
  {
   "cell_type": "markdown",
   "metadata": {},
   "source": [
    "### If a student is chosen at random what is their likely year?\n",
    "\n",
    "Use an outcome tables to examine individual probabilities for each year"
   ]
  },
  {
   "cell_type": "code",
   "execution_count": 11,
   "metadata": {},
   "outputs": [
    {
     "data": {
      "text/plain": [
       "\n",
       "    Junior     Senior  Sophomore \n",
       "0.34523810 0.64285714 0.01190476 "
      ]
     },
     "metadata": {},
     "output_type": "display_data"
    }
   ],
   "source": [
    "#Create an outcome table for students' years. Remember that you can examine the probabilities of each outcome.\n",
    "\n",
    "prop.table(table(F21.StudentCheck.In$Year))"
   ]
  },
  {
   "cell_type": "markdown",
   "metadata": {},
   "source": [
    "<strong>Solution:</strong> A student chosen at random is likely a senior, with a probability of 64%. "
   ]
  },
  {
   "cell_type": "markdown",
   "metadata": {},
   "source": [
    "# Contingency Tables"
   ]
  },
  {
   "cell_type": "code",
   "execution_count": 7,
   "metadata": {},
   "outputs": [
    {
     "data": {
      "text/plain": [
       "        \n",
       "         Junior Senior Sophomore\n",
       "  DH_101     25     36         1\n",
       "  DH_125      4     18         0"
      ]
     },
     "metadata": {},
     "output_type": "display_data"
    }
   ],
   "source": [
    "#Create a contingency table of students' class and year\n",
    "table(F21.StudentCheck.In$Class, F21.StudentCheck.In$Year)"
   ]
  },
  {
   "cell_type": "code",
   "execution_count": 9,
   "metadata": {},
   "outputs": [
    {
     "data": {
      "text/plain": [
       "           \n",
       "            Anxious Excited Happy/content Hopeful Optimistic Other Sad/upset\n",
       "  Junior          6       1             5       3          0     1         0\n",
       "  Senior          7       5             7       5          6     2         2\n",
       "  Sophomore       0       0             0       1          0     0         0\n",
       "           \n",
       "            Stressed out Uncertain\n",
       "  Junior              10         3\n",
       "  Senior              16         4\n",
       "  Sophomore            0         0"
      ]
     },
     "metadata": {},
     "output_type": "display_data"
    }
   ],
   "source": [
    "#Create a contingency table of students' year and current emotion\n",
    "yr_emo <- table(F21.StudentCheck.In$Year, F21.StudentCheck.In$Current_Emotion)\n",
    "yr_emo"
   ]
  },
  {
   "cell_type": "markdown",
   "metadata": {},
   "source": [
    "### If a student is chosen at random, what is their likely year and emotional state?\n",
    "Examine the joint probability table for the Year-Emotion contingency table."
   ]
  },
  {
   "cell_type": "code",
   "execution_count": 10,
   "metadata": {},
   "outputs": [
    {
     "data": {
      "text/plain": [
       "           \n",
       "               Anxious    Excited Happy/content    Hopeful Optimistic\n",
       "  Junior    0.07142857 0.01190476    0.05952381 0.03571429 0.00000000\n",
       "  Senior    0.08333333 0.05952381    0.08333333 0.05952381 0.07142857\n",
       "  Sophomore 0.00000000 0.00000000    0.00000000 0.01190476 0.00000000\n",
       "           \n",
       "                 Other  Sad/upset Stressed out  Uncertain\n",
       "  Junior    0.01190476 0.00000000   0.11904762 0.03571429\n",
       "  Senior    0.02380952 0.02380952   0.19047619 0.04761905\n",
       "  Sophomore 0.00000000 0.00000000   0.00000000 0.00000000"
      ]
     },
     "metadata": {},
     "output_type": "display_data"
    }
   ],
   "source": [
    "prop.table(yr_emo)"
   ]
  },
  {
   "cell_type": "markdown",
   "metadata": {},
   "source": [
    "<strong>Solution:</strong> The highest joint probability is for a stressed out senior (19%), so this is the most likely combination."
   ]
  },
  {
   "cell_type": "code",
   "execution_count": 12,
   "metadata": {},
   "outputs": [
    {
     "data": {
      "text/plain": [
       "           \n",
       "            Applications Commute/parking Coursework Finances Grief\n",
       "  Junior               9               0         10        1     1\n",
       "  Senior              17               2         24        1     1\n",
       "  Sophomore            0               0          0        0     0\n",
       "           \n",
       "            Many commitments New living situation Pandemic\n",
       "  Junior                   1                    2        0\n",
       "  Senior                   0                    3        1\n",
       "  Sophomore                0                    1        0\n",
       "           \n",
       "            Racial/ethnic discrimination Relationships work/school balance\n",
       "  Junior                               1             4                   0\n",
       "  Senior                               0             4                   1\n",
       "  Sophomore                            0             0                   0"
      ]
     },
     "metadata": {},
     "output_type": "display_data"
    }
   ],
   "source": [
    "#Now let's explore students' year and primary stressor with a frequency (raw counts) contingency table.\n",
    "#Use the simpler classification for the \"Primary Stressor\" variable.\n",
    "yr_stressor <- table(F21.StudentCheck.In$Year, F21.StudentCheck.In$Primary_Stressor_Simple)\n",
    "yr_stressor"
   ]
  },
  {
   "cell_type": "markdown",
   "metadata": {},
   "source": [
    "### If a student is chosen at random, what is their likely year and primary stressor?"
   ]
  },
  {
   "cell_type": "code",
   "execution_count": 13,
   "metadata": {},
   "outputs": [
    {
     "data": {
      "text/plain": [
       "           \n",
       "            Applications Commute/parking Coursework   Finances      Grief\n",
       "  Junior      0.10714286      0.00000000 0.11904762 0.01190476 0.01190476\n",
       "  Senior      0.20238095      0.02380952 0.28571429 0.01190476 0.01190476\n",
       "  Sophomore   0.00000000      0.00000000 0.00000000 0.00000000 0.00000000\n",
       "           \n",
       "            Many commitments New living situation   Pandemic\n",
       "  Junior          0.01190476           0.02380952 0.00000000\n",
       "  Senior          0.00000000           0.03571429 0.01190476\n",
       "  Sophomore       0.00000000           0.01190476 0.00000000\n",
       "           \n",
       "            Racial/ethnic discrimination Relationships work/school balance\n",
       "  Junior                      0.01190476    0.04761905          0.00000000\n",
       "  Senior                      0.00000000    0.04761905          0.01190476\n",
       "  Sophomore                   0.00000000    0.00000000          0.00000000"
      ]
     },
     "metadata": {},
     "output_type": "display_data"
    }
   ],
   "source": [
    "#To examine the joint probabilities of both year and primary stressors, use the prop.table function\n",
    "prop.table(yr_stressor)"
   ]
  },
  {
   "cell_type": "markdown",
   "metadata": {},
   "source": [
    "If a student is chosen at random, they are likely to be both a senior and to be most stressed out about coursework, with applications a close second."
   ]
  },
  {
   "cell_type": "markdown",
   "metadata": {},
   "source": [
    "## Conditional Probabilities: Using the margin argument"
   ]
  },
  {
   "cell_type": "markdown",
   "metadata": {},
   "source": [
    "### Of the students in each year, which stressors are most often reported as primary?\n",
    "\n",
    "Examine the phrasing of this question. You need to group the conditional probabilities by student year, which is recorded in rows, so you need to use <strong>margin = 1</strong>."
   ]
  },
  {
   "cell_type": "code",
   "execution_count": 15,
   "metadata": {},
   "outputs": [
    {
     "data": {
      "text/plain": [
       "           \n",
       "            Applications Commute/parking Coursework   Finances      Grief\n",
       "  Junior      0.31034483      0.00000000 0.34482759 0.03448276 0.03448276\n",
       "  Senior      0.31481481      0.03703704 0.44444444 0.01851852 0.01851852\n",
       "  Sophomore   0.00000000      0.00000000 0.00000000 0.00000000 0.00000000\n",
       "           \n",
       "            Many commitments New living situation   Pandemic\n",
       "  Junior          0.03448276           0.06896552 0.00000000\n",
       "  Senior          0.00000000           0.05555556 0.01851852\n",
       "  Sophomore       0.00000000           1.00000000 0.00000000\n",
       "           \n",
       "            Racial/ethnic discrimination Relationships work/school balance\n",
       "  Junior                      0.03448276    0.13793103          0.00000000\n",
       "  Senior                      0.00000000    0.07407407          0.01851852\n",
       "  Sophomore                   0.00000000    0.00000000          0.00000000"
      ]
     },
     "metadata": {},
     "output_type": "display_data"
    }
   ],
   "source": [
    "prop.table(yr_stressor, margin=1)"
   ]
  },
  {
   "cell_type": "markdown",
   "metadata": {},
   "source": [
    "<strong>Solution:</strong>\n",
    "<ul>\n",
    "    <li>The top 3 stressors for juniors are, in order: coursework, applications & relationships.</li>\n",
    "    <li>The top 3 for seniors are: coursework, applications & relationships</li>\n",
    "    <li>The top stressor for sophomores is new living situation.</li>\n",
    "</ul>\n"
   ]
  },
  {
   "cell_type": "markdown",
   "metadata": {},
   "source": [
    "### Now let's see which year is most common by stressor:\n",
    "\n",
    "For this question, we need to examine students' year by stressor, which means we need to group by column, so <strong>margin = 2</strong>."
   ]
  },
  {
   "cell_type": "code",
   "execution_count": 16,
   "metadata": {},
   "outputs": [
    {
     "data": {
      "text/plain": [
       "           \n",
       "            Applications Commute/parking Coursework  Finances     Grief\n",
       "  Junior       0.3461538       0.0000000  0.2941176 0.5000000 0.5000000\n",
       "  Senior       0.6538462       1.0000000  0.7058824 0.5000000 0.5000000\n",
       "  Sophomore    0.0000000       0.0000000  0.0000000 0.0000000 0.0000000\n",
       "           \n",
       "            Many commitments New living situation  Pandemic\n",
       "  Junior           1.0000000            0.3333333 0.0000000\n",
       "  Senior           0.0000000            0.5000000 1.0000000\n",
       "  Sophomore        0.0000000            0.1666667 0.0000000\n",
       "           \n",
       "            Racial/ethnic discrimination Relationships work/school balance\n",
       "  Junior                       1.0000000     0.5000000           0.0000000\n",
       "  Senior                       0.0000000     0.5000000           1.0000000\n",
       "  Sophomore                    0.0000000     0.0000000           0.0000000"
      ]
     },
     "metadata": {},
     "output_type": "display_data"
    }
   ],
   "source": [
    "prop.table(yr_stressor, margin=2)"
   ]
  },
  {
   "cell_type": "markdown",
   "metadata": {},
   "source": [
    "<strong>Solution:</strong>\n",
    "<ul>\n",
    "    <li>Of those concerned about applications, 65% are seniors and 35% are juniors.</li>\n",
    "    <li>Of those concerned about coursework, 71% are seniors and 29% are juniors.</li>\n",
    "    <li>Of those concerned about finances, 50% are seniors and 50% are juniors, and the same holds true for grief and relationships.</li>\n",
    "</ul>"
   ]
  },
  {
   "cell_type": "markdown",
   "metadata": {},
   "source": [
    "### We can also examine these questions based on transfer status. Try this out as practice.\n",
    "\n",
    "Be sure to take the time to determine what your results mean and not just your ability to run the code in R."
   ]
  },
  {
   "cell_type": "code",
   "execution_count": null,
   "metadata": {},
   "outputs": [],
   "source": []
  }
 ],
 "metadata": {
  "kernelspec": {
   "display_name": "R",
   "language": "R",
   "name": "ir"
  },
  "language_info": {
   "codemirror_mode": "r",
   "file_extension": ".r",
   "mimetype": "text/x-r-source",
   "name": "R",
   "pygments_lexer": "r",
   "version": "4.1.1"
  }
 },
 "nbformat": 4,
 "nbformat_minor": 4
}
